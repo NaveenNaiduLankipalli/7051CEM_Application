{
 "cells": [
  {
   "cell_type": "code",
   "execution_count": 1,
   "id": "ae9ddaa6",
   "metadata": {},
   "outputs": [],
   "source": [
    "import pandas as pd\n",
    "import matplotlib.pyplot as plt\n",
    "from sklearn.linear_model import LinearRegression"
   ]
  },
  {
   "cell_type": "code",
   "execution_count": 2,
   "id": "6286a4f7",
   "metadata": {},
   "outputs": [],
   "source": [
    "data = pd.read_csv('sales_data.csv')"
   ]
  },
  {
   "cell_type": "code",
   "execution_count": 3,
   "id": "cc94a20f",
   "metadata": {},
   "outputs": [],
   "source": [
    "X = data['Advertising Cost'].values.reshape(-1, 1)\n",
    "y = data['Yearly Sale'].values.reshape(-1, 1)"
   ]
  },
  {
   "cell_type": "raw",
   "id": "a6041884",
   "metadata": {},
   "source": [
    "# Fit the linear regression model"
   ]
  },
  {
   "cell_type": "code",
   "execution_count": 4,
   "id": "1cee0205",
   "metadata": {},
   "outputs": [],
   "source": [
    "reg = LinearRegression().fit(X, y)"
   ]
  },
  {
   "cell_type": "markdown",
   "id": "22b8ed4c",
   "metadata": {},
   "source": [
    "#Predict the sales for the year 2022"
   ]
  },
  {
   "cell_type": "code",
   "execution_count": 7,
   "id": "1e68f663",
   "metadata": {
    "scrolled": true
   },
   "outputs": [
    {
     "name": "stdout",
     "output_type": "stream",
     "text": [
      "Predicted sales for 2022: 13058.341404358353\n"
     ]
    }
   ],
   "source": [
    "ad_budget_2022 =  data['Advertising Cost'].iloc[-1] \n",
    "sales_2022 = reg.predict([[ad_budget_2022]])\n",
    "\n",
    "print(\"Predicted sales for 2022:\", sales_2022[0][0])"
   ]
  },
  {
   "cell_type": "code",
   "execution_count": null,
   "id": "a0a89b5a",
   "metadata": {},
   "outputs": [],
   "source": [
    "#Predict the sales for the year 2024"
   ]
  },
  {
   "cell_type": "code",
   "execution_count": 8,
   "id": "e34ed40a",
   "metadata": {},
   "outputs": [
    {
     "name": "stdout",
     "output_type": "stream",
     "text": [
      "Predicted sales for 2024: 13871.015496368038\n"
     ]
    }
   ],
   "source": [
    "ad_budget_2024 = 1.2 * data['Advertising Cost'].iloc[-1] # 20% increase in advertising budget from 2022\n",
    "sales_2024 = reg.predict([[ad_budget_2024]])\n",
    "\n",
    "print(\"Predicted sales for 2024:\", sales_2024[0][0])"
   ]
  }
 ],
 "metadata": {
  "kernelspec": {
   "display_name": "Python 3 (ipykernel)",
   "language": "python",
   "name": "python3"
  },
  "language_info": {
   "codemirror_mode": {
    "name": "ipython",
    "version": 3
   },
   "file_extension": ".py",
   "mimetype": "text/x-python",
   "name": "python",
   "nbconvert_exporter": "python",
   "pygments_lexer": "ipython3",
   "version": "3.9.16"
  }
 },
 "nbformat": 4,
 "nbformat_minor": 5
}
